{
 "cells": [
  {
   "cell_type": "code",
   "execution_count": 1,
   "metadata": {},
   "outputs": [
    {
     "name": "stdout",
     "output_type": "stream",
     "text": [
      "The concatenated string is: hello!ruman\n"
     ]
    }
   ],
   "source": [
    "# Taking input for two strings\n",
    "string1 = input(\"Enter the first string: \")\n",
    "string2 = input(\"Enter the second string: \")\n",
    "\n",
    "# Concatenating the strings\n",
    "result = string1 + string2\n",
    "\n",
    "# Printing the result\n",
    "print(\"The concatenated string is:\", result)\n"
   ]
  },
  {
   "cell_type": "code",
   "execution_count": 2,
   "metadata": {},
   "outputs": [
    {
     "name": "stdout",
     "output_type": "stream",
     "text": [
      "Sum: 41.0\n",
      "Difference: 27.0\n",
      "Product: 238.0\n",
      "Quotient: 4.857142857142857\n"
     ]
    }
   ],
   "source": [
    "# Taking input for two numbers\n",
    "num1 = float(input(\"Enter the first number: \"))\n",
    "num2 = float(input(\"Enter the second number: \"))\n",
    "\n",
    "# Calculating sum, difference, product, and quotient\n",
    "sum_result = num1 + num2\n",
    "difference = num1 - num2\n",
    "product = num1 * num2\n",
    "quotient = num1 / num2 if num2 != 0 else \"undefined (division by zero)\"\n",
    "\n",
    "# Printing each result\n",
    "print(\"Sum:\", sum_result)\n",
    "print(\"Difference:\", difference)\n",
    "print(\"Product:\", product)\n",
    "print(\"Quotient:\", quotient)\n"
   ]
  },
  {
   "cell_type": "code",
   "execution_count": 3,
   "metadata": {},
   "outputs": [
    {
     "name": "stdout",
     "output_type": "stream",
     "text": [
      "The area of the rectangle is: 21.0\n"
     ]
    }
   ],
   "source": [
    "# Taking input for length and width of the rectangle\n",
    "length = float(input(\"Enter the length of the rectangle: \"))\n",
    "width = float(input(\"Enter the width of the rectangle: \"))\n",
    "\n",
    "# Calculating the area\n",
    "area = length * width\n",
    "\n",
    "# Printing the area\n",
    "print(\"The area of the rectangle is:\", area)\n"
   ]
  },
  {
   "cell_type": "code",
   "execution_count": 4,
   "metadata": {},
   "outputs": [
    {
     "name": "stdout",
     "output_type": "stream",
     "text": [
      "The length of the string is: 9\n"
     ]
    }
   ],
   "source": [
    "# Taking input for the string\n",
    "user_string = input(\"Enter a string: \")\n",
    "\n",
    "# Calculating the length of the string\n",
    "string_length = len(user_string)\n",
    "\n",
    "# Printing the length\n",
    "print(\"The length of the string is:\", string_length)\n"
   ]
  },
  {
   "cell_type": "code",
   "execution_count": 5,
   "metadata": {},
   "outputs": [
    {
     "name": "stdout",
     "output_type": "stream",
     "text": [
      "The second number in the list is: 20\n",
      "The fourth number in the list is: 40\n"
     ]
    }
   ],
   "source": [
    "# Creating a list of five numbers\n",
    "numbers = [10, 20, 30, 40, 50]\n",
    "\n",
    "# Accessing and printing the second and fourth numbers\n",
    "print(\"The second number in the list is:\", numbers[1])\n",
    "print(\"The fourth number in the list is:\", numbers[3])\n"
   ]
  },
  {
   "cell_type": "code",
   "execution_count": null,
   "metadata": {},
   "outputs": [
    {
     "name": "stdout",
     "output_type": "stream",
     "text": [
      "<class 'str'>\n",
      "The square of the number is: 1976335936\n"
     ]
    }
   ],
   "source": [
    "# Taking input as a string representation of a number\n",
    "number_str = input(\"Enter a number: \")\n",
    "\n",
    "# Converting the string to an integer\n",
    "number = int(number_str)\n",
    "\n",
    "# Calculating the square of the number\n",
    "square = number ** 2\n",
    "\n",
    "# Printing the result\n",
    "print(\"The square of the number is:\", square)\n"
   ]
  },
  {
   "cell_type": "code",
   "execution_count": 8,
   "metadata": {},
   "outputs": [
    {
     "name": "stdout",
     "output_type": "stream",
     "text": [
      "Hello, rumman! You are 34 years old.\n"
     ]
    }
   ],
   "source": [
    "# Taking input for the user's name and age\n",
    "name = input(\"Enter your name: \")\n",
    "age = input(\"Enter your age: \")\n",
    "\n",
    "# Printing a formatted message\n",
    "print(f\"Hello, {name}! You are {age} years old.\")\n"
   ]
  },
  {
   "cell_type": "code",
   "execution_count": 9,
   "metadata": {},
   "outputs": [
    {
     "name": "stdout",
     "output_type": "stream",
     "text": [
      "Minimum: 5\n",
      "Maximum: 42\n",
      "Sum: 119\n"
     ]
    }
   ],
   "source": [
    "# Creating a list of five numbers\n",
    "numbers = [10, 25, 37, 5, 42]\n",
    "\n",
    "# Calculating the minimum, maximum, and sum using built-in functions\n",
    "min_value = min(numbers)\n",
    "max_value = max(numbers)\n",
    "sum_value = sum(numbers)\n",
    "\n",
    "# Printing the results\n",
    "print(\"Minimum:\", min_value)\n",
    "print(\"Maximum:\", max_value)\n",
    "print(\"Sum:\", sum_value)\n"
   ]
  }
 ],
 "metadata": {
  "kernelspec": {
   "display_name": "Python 3",
   "language": "python",
   "name": "python3"
  },
  "language_info": {
   "codemirror_mode": {
    "name": "ipython",
    "version": 3
   },
   "file_extension": ".py",
   "mimetype": "text/x-python",
   "name": "python",
   "nbconvert_exporter": "python",
   "pygments_lexer": "ipython3",
   "version": "3.12.4"
  }
 },
 "nbformat": 4,
 "nbformat_minor": 2
}
